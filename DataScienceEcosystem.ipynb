{
 "cells": [
  {
   "cell_type": "markdown",
   "id": "6bd5d4bb-e75f-4c11-b218-0533fe9ab0d9",
   "metadata": {},
   "source": [
    "# Data Science Tools And Ecosystem"
   ]
  },
  {
   "cell_type": "markdown",
   "id": "0678cc46-dc43-4849-a9a5-2b86b4fa6c8b",
   "metadata": {},
   "source": [
    "En este cuaderno, se resumen las herramientas y ecosistemas de ciencia de datos."
   ]
  },
  {
   "cell_type": "markdown",
   "id": "145a9518-a28b-4ea1-956d-87d2bd57d3c6",
   "metadata": {},
   "source": [
    "**Objetivos:**\n",
    "- Herramientas más usadas en ciencia de datos\n",
    "* Listar lenguajes populares para Ciencia de Datos\n",
    "+ Expresiones aritméticas en Pyton"
   ]
  },
  {
   "cell_type": "markdown",
   "id": "f6abbb1f-6f31-4e98-8af5-04c9feaebeca",
   "metadata": {},
   "source": [
    "Algunos de los lenguajes mas populares entre los cientificos de datos son:\n",
    "1. Python\n",
    "2. R\n",
    "3. SQL\n",
    "4. Java"
   ]
  },
  {
   "cell_type": "markdown",
   "id": "ac2377cf-e8b9-417d-af25-673c1879bc8b",
   "metadata": {},
   "source": [
    "Algunas de las bibliotecas más utilizadas por los cientificos de datos incluyen:\n",
    "\n",
    "1. NumPy\n",
    "2. Pandas\n",
    "3. Matplotlib\n",
    "4. Seaborn\n",
    "5. Plotly"
   ]
  },
  {
   "cell_type": "markdown",
   "id": "fcb558b5-472c-4700-a093-e8bbdbf82f9d",
   "metadata": {},
   "source": [
    "| Herramienta de Ciencia de Datos |\n",
    "| :------------------------------:|\n",
    "| Anaconda|\n",
    "| R |\n",
    "| Apache Spark |"
   ]
  },
  {
   "cell_type": "markdown",
   "id": "55a5afdc-0f3a-4fe7-94de-2faa56834714",
   "metadata": {},
   "source": [
    "## Expresiones Aritméticas en Python\n",
    "A continuacoión, se presentan algunos ejemplos de evaluación de expresiones aritméticas en Python ."
   ]
  },
  {
   "cell_type": "markdown",
   "id": "bf470c59-a941-4170-acff-4a7708a5331c",
   "metadata": {},
   "source": [
    "Esta es una expresión aritmética simple para multiplicar y luego sumar enteros."
   ]
  },
  {
   "cell_type": "code",
   "execution_count": 6,
   "id": "4953b736-a0b0-46f3-b890-e67837eebc85",
   "metadata": {},
   "outputs": [
    {
     "data": {
      "text/plain": [
       "17"
      ]
     },
     "execution_count": 6,
     "metadata": {},
     "output_type": "execute_result"
    }
   ],
   "source": [
    "(3*4)+5"
   ]
  },
  {
   "cell_type": "markdown",
   "id": "cb6d3def-d267-44b8-9c48-110fba6e6fd0",
   "metadata": {},
   "source": [
    "Esto coonvertirá 200 minutos a horas dividiendo por 60"
   ]
  },
  {
   "cell_type": "code",
   "execution_count": 10,
   "id": "562f5117-cff5-4f7c-8863-23044bbbfa55",
   "metadata": {},
   "outputs": [
    {
     "data": {
      "text/plain": [
       "3.3333333333333335"
      ]
     },
     "execution_count": 10,
     "metadata": {},
     "output_type": "execute_result"
    }
   ],
   "source": [
    "200/60"
   ]
  },
  {
   "cell_type": "markdown",
   "id": "c55a0cd7-6097-4670-ae89-e96e51e487d3",
   "metadata": {},
   "source": [
    "## Autor\n",
    "Héctor Enrique Torres Cruz"
   ]
  },
  {
   "cell_type": "code",
   "execution_count": null,
   "id": "4b29260c-9f7f-4829-bd83-63318bff3f10",
   "metadata": {},
   "outputs": [],
   "source": []
  }
 ],
 "metadata": {
  "kernelspec": {
   "display_name": "Python [conda env:base] *",
   "language": "python",
   "name": "conda-base-py"
  },
  "language_info": {
   "codemirror_mode": {
    "name": "ipython",
    "version": 3
   },
   "file_extension": ".py",
   "mimetype": "text/x-python",
   "name": "python",
   "nbconvert_exporter": "python",
   "pygments_lexer": "ipython3",
   "version": "3.13.5"
  }
 },
 "nbformat": 4,
 "nbformat_minor": 5
}
